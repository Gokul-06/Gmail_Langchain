{
 "cells": [
  {
   "metadata": {
    "ExecuteTime": {
     "end_time": "2024-06-08T15:16:42.642547Z",
     "start_time": "2024-06-08T15:16:40.682036Z"
    }
   },
   "cell_type": "code",
   "source": [
    "!pip install --upgrade --quiet  google-auth google-auth-oauthlib google-auth-httplib2 google-api-python-client langchain langchain-community langchain-openai langchainhub\n",
    "     "
   ],
   "id": "36e860558fc79206",
   "outputs": [],
   "execution_count": 1
  },
  {
   "metadata": {
    "ExecuteTime": {
     "end_time": "2024-06-08T15:16:42.787318Z",
     "start_time": "2024-06-08T15:16:42.644247Z"
    }
   },
   "cell_type": "code",
   "source": "pip install --upgrade pip",
   "id": "7a556f068e973ddc",
   "outputs": [
    {
     "name": "stdout",
     "output_type": "stream",
     "text": [
      "/opt/homebrew/opt/python@3.11/bin/python3.11: No module named pip\r\n",
      "Note: you may need to restart the kernel to use updated packages.\n"
     ]
    }
   ],
   "execution_count": 2
  },
  {
   "metadata": {
    "ExecuteTime": {
     "end_time": "2024-06-08T15:16:43.505015Z",
     "start_time": "2024-06-08T15:16:42.788161Z"
    }
   },
   "cell_type": "code",
   "source": "!pip install google-auth-oauthlib",
   "id": "31df8aa8ae946c5d",
   "outputs": [
    {
     "name": "stdout",
     "output_type": "stream",
     "text": [
      "Requirement already satisfied: google-auth-oauthlib in ./.venv/lib/python3.12/site-packages (1.2.0)\r\n",
      "Requirement already satisfied: google-auth>=2.15.0 in ./.venv/lib/python3.12/site-packages (from google-auth-oauthlib) (2.30.0)\r\n",
      "Requirement already satisfied: requests-oauthlib>=0.7.0 in ./.venv/lib/python3.12/site-packages (from google-auth-oauthlib) (2.0.0)\r\n",
      "Requirement already satisfied: cachetools<6.0,>=2.0.0 in ./.venv/lib/python3.12/site-packages (from google-auth>=2.15.0->google-auth-oauthlib) (5.3.3)\r\n",
      "Requirement already satisfied: pyasn1-modules>=0.2.1 in ./.venv/lib/python3.12/site-packages (from google-auth>=2.15.0->google-auth-oauthlib) (0.4.0)\r\n",
      "Requirement already satisfied: rsa<5,>=3.1.4 in ./.venv/lib/python3.12/site-packages (from google-auth>=2.15.0->google-auth-oauthlib) (4.9)\r\n",
      "Requirement already satisfied: oauthlib>=3.0.0 in ./.venv/lib/python3.12/site-packages (from requests-oauthlib>=0.7.0->google-auth-oauthlib) (3.2.2)\r\n",
      "Requirement already satisfied: requests>=2.0.0 in ./.venv/lib/python3.12/site-packages (from requests-oauthlib>=0.7.0->google-auth-oauthlib) (2.32.3)\r\n",
      "Requirement already satisfied: pyasn1<0.7.0,>=0.4.6 in ./.venv/lib/python3.12/site-packages (from pyasn1-modules>=0.2.1->google-auth>=2.15.0->google-auth-oauthlib) (0.6.0)\r\n",
      "Requirement already satisfied: charset-normalizer<4,>=2 in ./.venv/lib/python3.12/site-packages (from requests>=2.0.0->requests-oauthlib>=0.7.0->google-auth-oauthlib) (3.3.2)\r\n",
      "Requirement already satisfied: idna<4,>=2.5 in ./.venv/lib/python3.12/site-packages (from requests>=2.0.0->requests-oauthlib>=0.7.0->google-auth-oauthlib) (3.7)\r\n",
      "Requirement already satisfied: urllib3<3,>=1.21.1 in ./.venv/lib/python3.12/site-packages (from requests>=2.0.0->requests-oauthlib>=0.7.0->google-auth-oauthlib) (2.2.1)\r\n",
      "Requirement already satisfied: certifi>=2017.4.17 in ./.venv/lib/python3.12/site-packages (from requests>=2.0.0->requests-oauthlib>=0.7.0->google-auth-oauthlib) (2024.6.2)\r\n"
     ]
    }
   ],
   "execution_count": 3
  },
  {
   "metadata": {
    "ExecuteTime": {
     "end_time": "2024-06-08T15:16:44.333582Z",
     "start_time": "2024-06-08T15:16:43.506320Z"
    }
   },
   "cell_type": "code",
   "source": "!pip install --upgrade pip",
   "id": "f6737a99485a546",
   "outputs": [
    {
     "name": "stdout",
     "output_type": "stream",
     "text": [
      "Requirement already satisfied: pip in ./.venv/lib/python3.12/site-packages (24.0)\r\n"
     ]
    }
   ],
   "execution_count": 4
  },
  {
   "metadata": {
    "ExecuteTime": {
     "end_time": "2024-06-08T15:17:40.272284Z",
     "start_time": "2024-06-08T15:17:40.236419Z"
    }
   },
   "cell_type": "code",
   "source": [
    "from langchain_community.agent_toolkits import GmailToolkit\n",
    "from langchain_community.tools.gmail.utils import (\n",
    "    build_resource_service,\n",
    "    get_gmail_credentials,\n",
    ")\n",
    "\n",
    "\n",
    "credentials = get_gmail_credentials(\n",
    "    scopes=[\"https://www.googleapis.com/auth/gmail.readonly\"],\n",
    "    client_secrets_file=\"client_secret_137685561772-f71sepcpmv01e4jkiqh2ageh941cc97c.apps.googleusercontent.com.json\",\n",
    "    token_file = \"/content/token.json\"\n",
    ")\n",
    "\n",
    "print(\"credentials Generated....\")\n",
    "api_resource = build_resource_service(credentials=credentials)\n",
    "toolkit = GmailToolkit(api_resource=api_resource)"
   ],
   "id": "ac3e6d43ee65b3cc",
   "outputs": [
    {
     "ename": "ImportError",
     "evalue": "You need to install google-auth-oauthlib to use this toolkit. Try running pip install --upgrade google-auth-oauthlib",
     "output_type": "error",
     "traceback": [
      "\u001B[0;31m---------------------------------------------------------------------------\u001B[0m",
      "\u001B[0;31mModuleNotFoundError\u001B[0m                       Traceback (most recent call last)",
      "File \u001B[0;32m/opt/homebrew/lib/python3.11/site-packages/langchain_community/tools/gmail/utils.py:43\u001B[0m, in \u001B[0;36mimport_installed_app_flow\u001B[0;34m()\u001B[0m\n\u001B[1;32m     42\u001B[0m \u001B[38;5;28;01mtry\u001B[39;00m:\n\u001B[0;32m---> 43\u001B[0m     \u001B[38;5;28;01mfrom\u001B[39;00m \u001B[38;5;21;01mgoogle_auth_oauthlib\u001B[39;00m\u001B[38;5;21;01m.\u001B[39;00m\u001B[38;5;21;01mflow\u001B[39;00m \u001B[38;5;28;01mimport\u001B[39;00m InstalledAppFlow\n\u001B[1;32m     44\u001B[0m \u001B[38;5;28;01mexcept\u001B[39;00m \u001B[38;5;167;01mImportError\u001B[39;00m:\n",
      "\u001B[0;31mModuleNotFoundError\u001B[0m: No module named 'google_auth_oauthlib'",
      "\nDuring handling of the above exception, another exception occurred:\n",
      "\u001B[0;31mImportError\u001B[0m                               Traceback (most recent call last)",
      "Cell \u001B[0;32mIn[8], line 8\u001B[0m\n\u001B[1;32m      1\u001B[0m \u001B[38;5;28;01mfrom\u001B[39;00m \u001B[38;5;21;01mlangchain_community\u001B[39;00m\u001B[38;5;21;01m.\u001B[39;00m\u001B[38;5;21;01magent_toolkits\u001B[39;00m \u001B[38;5;28;01mimport\u001B[39;00m GmailToolkit\n\u001B[1;32m      2\u001B[0m \u001B[38;5;28;01mfrom\u001B[39;00m \u001B[38;5;21;01mlangchain_community\u001B[39;00m\u001B[38;5;21;01m.\u001B[39;00m\u001B[38;5;21;01mtools\u001B[39;00m\u001B[38;5;21;01m.\u001B[39;00m\u001B[38;5;21;01mgmail\u001B[39;00m\u001B[38;5;21;01m.\u001B[39;00m\u001B[38;5;21;01mutils\u001B[39;00m \u001B[38;5;28;01mimport\u001B[39;00m (\n\u001B[1;32m      3\u001B[0m     build_resource_service,\n\u001B[1;32m      4\u001B[0m     get_gmail_credentials,\n\u001B[1;32m      5\u001B[0m )\n\u001B[0;32m----> 8\u001B[0m credentials \u001B[38;5;241m=\u001B[39m \u001B[43mget_gmail_credentials\u001B[49m\u001B[43m(\u001B[49m\n\u001B[1;32m      9\u001B[0m \u001B[43m    \u001B[49m\u001B[43mscopes\u001B[49m\u001B[38;5;241;43m=\u001B[39;49m\u001B[43m[\u001B[49m\u001B[38;5;124;43m\"\u001B[39;49m\u001B[38;5;124;43mhttps://www.googleapis.com/auth/gmail.readonly\u001B[39;49m\u001B[38;5;124;43m\"\u001B[39;49m\u001B[43m]\u001B[49m\u001B[43m,\u001B[49m\n\u001B[1;32m     10\u001B[0m \u001B[43m    \u001B[49m\u001B[43mclient_secrets_file\u001B[49m\u001B[38;5;241;43m=\u001B[39;49m\u001B[38;5;124;43m\"\u001B[39;49m\u001B[38;5;124;43mclient_secret_137685561772-f71sepcpmv01e4jkiqh2ageh941cc97c.apps.googleusercontent.com.json\u001B[39;49m\u001B[38;5;124;43m\"\u001B[39;49m\u001B[43m,\u001B[49m\n\u001B[1;32m     11\u001B[0m \u001B[43m    \u001B[49m\u001B[43mtoken_file\u001B[49m\u001B[43m \u001B[49m\u001B[38;5;241;43m=\u001B[39;49m\u001B[43m \u001B[49m\u001B[38;5;124;43m\"\u001B[39;49m\u001B[38;5;124;43m/content/token.json\u001B[39;49m\u001B[38;5;124;43m\"\u001B[39;49m\n\u001B[1;32m     12\u001B[0m \u001B[43m)\u001B[49m\n\u001B[1;32m     14\u001B[0m \u001B[38;5;28mprint\u001B[39m(\u001B[38;5;124m\"\u001B[39m\u001B[38;5;124mcredentials Generated....\u001B[39m\u001B[38;5;124m\"\u001B[39m)\n\u001B[1;32m     15\u001B[0m api_resource \u001B[38;5;241m=\u001B[39m build_resource_service(credentials\u001B[38;5;241m=\u001B[39mcredentials)\n",
      "File \u001B[0;32m/opt/homebrew/lib/python3.11/site-packages/langchain_community/tools/gmail/utils.py:81\u001B[0m, in \u001B[0;36mget_gmail_credentials\u001B[0;34m(token_file, client_secrets_file, scopes)\u001B[0m\n\u001B[1;32m     79\u001B[0m \u001B[38;5;66;03m# From https://developers.google.com/gmail/api/quickstart/python\u001B[39;00m\n\u001B[1;32m     80\u001B[0m Request, Credentials \u001B[38;5;241m=\u001B[39m import_google()\n\u001B[0;32m---> 81\u001B[0m InstalledAppFlow \u001B[38;5;241m=\u001B[39m \u001B[43mimport_installed_app_flow\u001B[49m\u001B[43m(\u001B[49m\u001B[43m)\u001B[49m\n\u001B[1;32m     82\u001B[0m creds \u001B[38;5;241m=\u001B[39m \u001B[38;5;28;01mNone\u001B[39;00m\n\u001B[1;32m     83\u001B[0m scopes \u001B[38;5;241m=\u001B[39m scopes \u001B[38;5;129;01mor\u001B[39;00m DEFAULT_SCOPES\n",
      "File \u001B[0;32m/opt/homebrew/lib/python3.11/site-packages/langchain_community/tools/gmail/utils.py:45\u001B[0m, in \u001B[0;36mimport_installed_app_flow\u001B[0;34m()\u001B[0m\n\u001B[1;32m     43\u001B[0m     \u001B[38;5;28;01mfrom\u001B[39;00m \u001B[38;5;21;01mgoogle_auth_oauthlib\u001B[39;00m\u001B[38;5;21;01m.\u001B[39;00m\u001B[38;5;21;01mflow\u001B[39;00m \u001B[38;5;28;01mimport\u001B[39;00m InstalledAppFlow\n\u001B[1;32m     44\u001B[0m \u001B[38;5;28;01mexcept\u001B[39;00m \u001B[38;5;167;01mImportError\u001B[39;00m:\n\u001B[0;32m---> 45\u001B[0m     \u001B[38;5;28;01mraise\u001B[39;00m \u001B[38;5;167;01mImportError\u001B[39;00m(\n\u001B[1;32m     46\u001B[0m         \u001B[38;5;124m\"\u001B[39m\u001B[38;5;124mYou need to install google-auth-oauthlib to use this toolkit. \u001B[39m\u001B[38;5;124m\"\u001B[39m\n\u001B[1;32m     47\u001B[0m         \u001B[38;5;124m\"\u001B[39m\u001B[38;5;124mTry running pip install --upgrade google-auth-oauthlib\u001B[39m\u001B[38;5;124m\"\u001B[39m\n\u001B[1;32m     48\u001B[0m     )\n\u001B[1;32m     49\u001B[0m \u001B[38;5;28;01mreturn\u001B[39;00m InstalledAppFlow\n",
      "\u001B[0;31mImportError\u001B[0m: You need to install google-auth-oauthlib to use this toolkit. Try running pip install --upgrade google-auth-oauthlib"
     ]
    }
   ],
   "execution_count": 8
  },
  {
   "metadata": {
    "ExecuteTime": {
     "end_time": "2024-06-08T15:17:41.991123Z",
     "start_time": "2024-06-08T15:17:41.370355Z"
    }
   },
   "cell_type": "code",
   "source": "!pip cache purge\n",
   "id": "21d7c74e1aaf37b6",
   "outputs": [
    {
     "name": "stdout",
     "output_type": "stream",
     "text": [
      "\u001B[33mWARNING: No matching packages\u001B[0m\u001B[33m\r\n",
      "\u001B[0mFiles removed: 0\r\n"
     ]
    }
   ],
   "execution_count": 9
  },
  {
   "metadata": {},
   "cell_type": "code",
   "source": "",
   "id": "1853d778c35182d4",
   "outputs": [],
   "execution_count": null
  }
 ],
 "metadata": {
  "kernelspec": {
   "display_name": "Python 3",
   "language": "python",
   "name": "python3"
  },
  "language_info": {
   "codemirror_mode": {
    "name": "ipython",
    "version": 2
   },
   "file_extension": ".py",
   "mimetype": "text/x-python",
   "name": "python",
   "nbconvert_exporter": "python",
   "pygments_lexer": "ipython2",
   "version": "2.7.6"
  }
 },
 "nbformat": 4,
 "nbformat_minor": 5
}
